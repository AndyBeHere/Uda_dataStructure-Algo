{
 "cells": [
  {
   "cell_type": "markdown",
   "metadata": {},
   "source": [
    "- problem_1\n",
    "    - Find the square root of the integer without using any Python library. You have to find the floor value of the square root.\n",
    "\n",
    "    - For example if the given number is 16, then the answer would be 4.\n",
    "\n",
    "        - If the given number is 27, the answer would be 5 because sqrt(5) = 5.196 whose floor value is 5.\n",
    "\n",
    "    - The expected time complexity is O(log(n))"
   ]
  },
  {
   "cell_type": "code",
   "execution_count": 27,
   "metadata": {},
   "outputs": [
    {
     "name": "stdout",
     "output_type": "stream",
     "text": [
      "———————————————————— Case1: ————————————————————\n",
      "Pass\n",
      "Pass\n",
      "Pass\n",
      "———————————————————— Case2: ————————————————————\n",
      "Pass\n",
      "———————————————————— Case3: ————————————————————\n",
      "Pass\n",
      "———————————————————— Case4: ————————————————————\n",
      "Pass\n"
     ]
    }
   ],
   "source": [
    "def sqrt(number):\n",
    "    \"\"\"\n",
    "    Calculate the floored square root of a number\n",
    "\n",
    "    Args:\n",
    "       number(int): Number to find the floored squared root\n",
    "    Returns:\n",
    "       int: Floored Square Root\n",
    "    \"\"\"\n",
    "    if number < 0:\n",
    "#         print('Negative number fail!')\n",
    "        return -1\n",
    "    return sqrt_helper(number,0,number)\n",
    "\n",
    "def sqrt_helper(number, left, right):\n",
    "    if right-left<1:\n",
    "        return right // 1\n",
    "    middle = ((left + right) / 2) \n",
    "#     print(middle)\n",
    "    if middle ** 2 < number:\n",
    "        left = middle\n",
    "    elif middle ** 2 > number:\n",
    "        right = middle\n",
    "    else:\n",
    "        return middle \n",
    "    return sqrt_helper(number, left, right)\n",
    "    \n",
    "print('—'*20,'Case1:','—'*20,)\n",
    "print (\"Pass\" if  (3 == sqrt(9)) else \"Fail\")\n",
    "print (\"Pass\" if  (4 == sqrt(16)) else \"Fail\")\n",
    "print (\"Pass\" if  (5 == sqrt(27)) else \"Fail\")\n",
    "print('—'*20,'Case2:','—'*20,)\n",
    "print (\"Pass\" if  (0 == sqrt(0)) else \"Fail\")\n",
    "print('—'*20,'Case3:','—'*20,)\n",
    "print (\"Pass\" if  (1 == sqrt(1)) else \"Fail\")\n",
    "print('—'*20,'Case4:','—'*20,)\n",
    "print (\"Pass\" if  (-1 == sqrt(-1)) else \"Fail\")"
   ]
  },
  {
   "cell_type": "code",
   "execution_count": null,
   "metadata": {},
   "outputs": [],
   "source": []
  },
  {
   "cell_type": "markdown",
   "metadata": {},
   "source": [
    "- Problem_2: Search in a Rotated Sorted Array\n",
    "    - You are given a sorted array which is rotated at some random pivot point.\n",
    "\n",
    "    - Example: [0,1,2,4,5,6,7] might become [4,5,6,7,0,1,2]\n",
    "\n",
    "        - You are given a target value to search. If found in the array return its index, otherwise return -1.\n",
    "\n",
    "    - You can assume there are no duplicates in the array and your algorithm's runtime complexity must be in the order of O(log n).\n",
    "\n",
    "    - Example:\n",
    "\n",
    "        - Input: nums = [4,5,6,7,0,1,2], target = 0, Output: 4"
   ]
  },
  {
   "cell_type": "code",
   "execution_count": 33,
   "metadata": {},
   "outputs": [
    {
     "name": "stdout",
     "output_type": "stream",
     "text": [
      "———————————————————— Case1: ————————————————————\n",
      "Pass\n",
      "Pass\n",
      "Pass\n",
      "Pass\n",
      "———————————————————— Case2: ————————————————————\n",
      "Pass\n",
      "———————————————————— Case3: ————————————————————\n",
      "Pass\n"
     ]
    }
   ],
   "source": [
    "def rotated_array_search(input_list, number):\n",
    "    \"\"\"\n",
    "    Find the index by searching in a rotated sorted array\n",
    "\n",
    "    Args:\n",
    "       input_list(array), number(int): Input array to search and the target\n",
    "    Returns:\n",
    "       int: Index or -1\n",
    "    \"\"\"\n",
    "    front, tail = input_list[0], input_list[-1]\n",
    "    if number == front:\n",
    "        return 0\n",
    "    if number < front:\n",
    "        label = tail ### 大于label，则在右边\n",
    "    if number > front:\n",
    "        label = front ### 小于label，则在左边\n",
    "    return search(input_list, number, label, 0, len(input_list)-1)\n",
    "\n",
    "def search(input_list, number, label, left, right):\n",
    "#     print(left)\n",
    "    if (left == right or left+1==right)  and number != input_list[left] and number != input_list[right]:\n",
    "        return -1\n",
    "        \n",
    "    if label == input_list[0]:\n",
    "        middle_index = (left +right) // 2\n",
    "        if input_list[middle_index] == number:\n",
    "            return middle_index\n",
    "        if input_list[middle_index] < number and input_list[middle_index] > label:\n",
    "            return search(input_list, number, label, middle_index, right)\n",
    "        return search(input_list, number, label, left, middle_index)\n",
    "        \n",
    "    else:\n",
    "        middle_index = (left +right) // 2\n",
    "        if input_list[middle_index] == number:\n",
    "            return middle_index\n",
    "        if input_list[middle_index] > number and input_list[middle_index] <= label:\n",
    "            return search(input_list, number, label,left, middle_index)\n",
    "        return search(input_list, number, label,middle_index, right)        \n",
    "\n",
    "def linear_search(input_list, number):\n",
    "    for index, element in enumerate(input_list):\n",
    "        if element == number:\n",
    "            return index\n",
    "    return -1\n",
    "\n",
    "def test_function(test_case):\n",
    "    input_list = test_case[0]\n",
    "    number = test_case[1]\n",
    "    if linear_search(input_list, number) == rotated_array_search(input_list, number):\n",
    "        print(\"Pass\")\n",
    "    else:\n",
    "        print(\"Fail\")\n",
    "\n",
    "print('—'*20,'Case1:','—'*20,)\n",
    "test_function([[6, 7, 8, 9, 10, 1, 2, 3, 4], 6])\n",
    "test_function([[6, 7, 8, 9, 10, 1, 2, 3, 4], 1])\n",
    "test_function([[6, 7, 8, 1, 2, 3, 4], 8])\n",
    "test_function([[6, 7, 8, 1, 2, 3, 4], 1])\n",
    "print('—'*20,'Case2:','—'*20,)\n",
    "test_function([[6, 7, 8, 1, 2, 3, 4], 10])\n",
    "print('—'*20,'Case3:','—'*20,)\n",
    "test_function([[6, 7, 8, 1, 2, 3, 4], 0])"
   ]
  },
  {
   "cell_type": "code",
   "execution_count": null,
   "metadata": {},
   "outputs": [],
   "source": []
  },
  {
   "cell_type": "markdown",
   "metadata": {},
   "source": [
    "- Problem_3:Rearrange Array Elements\n",
    "    - Rearrange Array Elements so as to form two number such that their sum is maximum. Return these two numbers. You can assume that all array elements are in the range [0, 9]. The number of digits in both the numbers cannot differ by more than 1. You're not allowed to use any sorting function that Python provides \n",
    "\n",
    "    - and the expected time complexity is O(nlog(n)).\n",
    "\n",
    "    - for e.g. [1, 2, 3, 4, 5]\n",
    "\n",
    "    - The expected answer would be [531, 42]. Another expected answer can be [542, 31]. In scenarios such as these when there are more than one possible answers, return any one.\n"
   ]
  },
  {
   "cell_type": "code",
   "execution_count": 73,
   "metadata": {},
   "outputs": [
    {
     "name": "stdout",
     "output_type": "stream",
     "text": [
      "———————————————————— Case1: ————————————————————\n",
      "Pass\n",
      "———————————————————— Case2: ————————————————————\n",
      "Pass\n",
      "———————————————————— Case3: ————————————————————\n",
      "Pass\n"
     ]
    }
   ],
   "source": [
    "def rearrange_digits(input_list):\n",
    "    \"\"\"\n",
    "    Rearrange Array Elements so as to form two number such that their sum is maximum.\n",
    "\n",
    "    Args:\n",
    "       input_list(list): Input List\n",
    "    Returns:\n",
    "       (int),(int): Two maximum sums\n",
    "    \"\"\"\n",
    "    if len(input_list) < 2:\n",
    "        return -1\n",
    "    left = input_list[0:len(input_list)//2]\n",
    "    right = input_list[len(input_list)//2:]\n",
    "#     print(left, right)\n",
    "    left = merge(left[0:len(left)//2],left[len(left)//2:]) if len(left)>1 else left\n",
    "    right = merge(right[0:len(right)//2],right[len(right)//2:]) if len(right)>1 else right\n",
    "    \n",
    "    n_1, n_2 = [], []\n",
    "    i,j = 0,0\n",
    "    last_1 = 0\n",
    "    while i < len(left):\n",
    "        if j>=len(right) or left[i] >= right[j]:\n",
    "            n_1.append(left[i]) if last_1 == 0 else n_2.append(left[i])\n",
    "            last_1 = last_1 == 0\n",
    "            i+=1\n",
    "            continue\n",
    "        while j<len(right) and left[i] < right[j]:\n",
    "            n_1.append(right[j]) if last_1 == 0 else n_2.append(right[j])\n",
    "            last_1 = last_1 == 0\n",
    "            j+=1\n",
    "    \n",
    "    while j<len(right):        \n",
    "            n_1.append(right[j]) if last_1 == 0 else n_2.append(right[j])\n",
    "            last_1 = last_1 == 0\n",
    "            j+=1\n",
    "    n_1_int = int(''.join([str(_) for _ in n_1]))\n",
    "    n_2_int = int(''.join([str(_) for _ in n_2]))\n",
    "    return  [n_1_int, n_2_int]\n",
    "    \n",
    "def merge(left,right):\n",
    "    if len(left) != 1:\n",
    "#         print(left)\n",
    "        left = merge(left[0:len(left)//2],left[len(left)//2:])\n",
    "    if len(right) != 1:\n",
    "        right = merge(right[0:len(right)//2],right[len(right)//2:])\n",
    "        \n",
    "    i,j=0,0\n",
    "    n_1 = []\n",
    "    while i < len(left):\n",
    "#         print(left)\n",
    "        if j>=len(right) or left[i] >= right[j]:\n",
    "            n_1.append(left[i]) \n",
    "            i+=1\n",
    "            continue\n",
    "        while j<len(right) and left[i] < right[j] :\n",
    "            n_1.append(right[j]) \n",
    "            j+=1\n",
    "    while j<len(right):        \n",
    "        n_1.append(right[j]) \n",
    "        j+=1\n",
    "#     print(n_1)\n",
    "    return n_1\n",
    "\n",
    "def test_function(test_case):\n",
    "    output = rearrange_digits(test_case[0])\n",
    "    solution = test_case[1]\n",
    "    if sum(output) == sum(solution):\n",
    "        print(\"Pass\")\n",
    "    else:\n",
    "        print(\"Fail\")\n",
    "        \n",
    "print('—'*20,'Case1:','—'*20,)\n",
    "test_function([[1, 2, 3, 4, 5], [542, 31]])\n",
    "print('—'*20,'Case2:','—'*20,)\n",
    "test_function([[4, 6, 2, 5, 9, 8], [964, 852]])\n",
    "print('—'*20,'Case3:','—'*20,)\n",
    "test_function([[0,1,2,3,4], [420, 31]])"
   ]
  },
  {
   "cell_type": "markdown",
   "metadata": {},
   "source": [
    "- Problem_4:Dutch National Flag Problem\n",
    "    - Given an input array consisting on only 0, 1, and 2, sort the array in a single traversal. You're not allowed to use any sorting function that Python provides.\n",
    "\n",
    "    - Note: O(n) does not necessarily mean single-traversal. For e.g. if you traverse the array twice, that would still be an O(n) solution but it will not count as single traversal.\n",
    "    - a single traversal, not O(n)"
   ]
  },
  {
   "cell_type": "code",
   "execution_count": 83,
   "metadata": {},
   "outputs": [
    {
     "name": "stdout",
     "output_type": "stream",
     "text": [
      "———————————————————— Case1: ————————————————————\n",
      "[0, 0, 0, 1, 1, 1, 2, 2, 2, 2, 2]\n",
      "Pass\n",
      "[0, 0, 0, 0, 0, 0, 0, 0, 0, 0, 0, 1, 1, 1, 1, 1, 1, 2, 2, 2, 2, 2, 2, 2, 2, 2]\n",
      "Pass\n",
      "[0, 0, 0, 0, 0, 0, 1, 1, 1, 1, 1, 1, 2, 2, 2, 2, 2, 2, 2]\n",
      "Pass\n",
      "———————————————————— Case1: ————————————————————\n",
      "[0]\n",
      "Pass\n",
      "———————————————————— Case1: ————————————————————\n",
      "[2]\n",
      "Pass\n"
     ]
    }
   ],
   "source": [
    "def sort_012(input_list):\n",
    "    \"\"\"\n",
    "    Given an input array consisting on only 0, 1, and 2, sort the array in a single traversal.\n",
    "\n",
    "    Args:\n",
    "       input_list(list): List to be sorted\n",
    "    \"\"\"\n",
    "    next_0 = 0\n",
    "    cur = 0\n",
    "    next_2 = len(input_list) - 1\n",
    "    while cur <= next_2:\n",
    "#         print(cur)\n",
    "        if input_list[cur] == 0:\n",
    "            if cur == next_0:\n",
    "                cur += 1\n",
    "                next_0+=1\n",
    "            else:\n",
    "                temp = input_list[next_0]\n",
    "                input_list[next_0] = 0\n",
    "                input_list[cur] = temp\n",
    "                next_0 += 1\n",
    "            \n",
    "        elif input_list[cur] == 1:\n",
    "            cur += 1\n",
    "        else:\n",
    "            temp = input_list[next_2]\n",
    "            input_list[next_2] = 2\n",
    "            input_list[cur] = temp\n",
    "            next_2 -= 1\n",
    "#         print(input_list)\n",
    "    return input_list\n",
    "\n",
    "def test_function(test_case):\n",
    "    sorted_array = sort_012(test_case)\n",
    "    print(sorted_array)\n",
    "    if sorted_array == sorted(test_case):\n",
    "        print(\"Pass\")\n",
    "    else:\n",
    "        print(\"Fail\")\n",
    "        \n",
    "print('—'*20,'Case1:','—'*20,)\n",
    "test_function([0, 0, 2, 2, 2, 1, 1, 1, 2, 0, 2])\n",
    "test_function([2, 1, 2, 0, 0, 2, 1, 0, 1, 0, 0, 2, 2, 2, 1, 2, 0, 0, 0, 2, 1, 0, 2, 0, 0, 1])\n",
    "test_function([0, 0, 0, 0, 0, 0, 1, 1, 1, 1, 1, 1, 2, 2, 2, 2, 2, 2, 2])\n",
    "print('—'*20,'Case1:','—'*20,)\n",
    "test_function([0,])\n",
    "print('—'*20,'Case1:','—'*20,)\n",
    "test_function([2])"
   ]
  },
  {
   "cell_type": "code",
   "execution_count": null,
   "metadata": {},
   "outputs": [],
   "source": []
  },
  {
   "cell_type": "markdown",
   "metadata": {},
   "source": [
    "Problem_5:\n",
    "# Building a Trie in Python\n",
    "\n",
    "Before we start let us reiterate the key components of a Trie or Prefix Tree. A trie is a tree-like data structure that stores a dynamic set of strings. Tries are commonly used to facilitate operations like predictive text or autocomplete features on mobile phones or web search.\n",
    "\n",
    "Before we move into the autocomplete function we need to create a working trie for storing strings.  We will create two classes:\n",
    "* A `Trie` class that contains the root node (empty string)\n",
    "* A `TrieNode` class that exposes the general functionality of the Trie, like inserting a word or finding the node which represents a prefix.\n",
    "\n",
    "Give it a try by implementing the `TrieNode` and `Trie` classes below!"
   ]
  },
  {
   "cell_type": "code",
   "execution_count": null,
   "metadata": {},
   "outputs": [],
   "source": [
    "## Represents a single node in the Trie\n",
    "class TrieNode:\n",
    "    def __init__(self):\n",
    "        ## Initialize this node in the Trie\n",
    "    \n",
    "    def insert(self, char):\n",
    "        ## Add a child node in this Trie\n",
    "        \n",
    "## The Trie itself containing the root node and insert/find functions\n",
    "class Trie:\n",
    "    def __init__(self):\n",
    "        ## Initialize this Trie (add a root node)\n",
    "\n",
    "    def insert(self, word):\n",
    "        ## Add a word to the Trie\n",
    "\n",
    "    def find(self, prefix):\n",
    "        ## Find the Trie node that represents this prefix\n"
   ]
  },
  {
   "cell_type": "markdown",
   "metadata": {},
   "source": [
    "# Finding Suffixes\n",
    "\n",
    "Now that we have a functioning Trie, we need to add the ability to list suffixes to implement our autocomplete feature.  To do that, we need to implement a new function on the `TrieNode` object that will return all complete word suffixes that exist below it in the trie.  For example, if our Trie contains the words `[\"fun\", \"function\", \"factory\"]` and we ask for suffixes from the `f` node, we would expect to receive `[\"un\", \"unction\", \"actory\"]` back from `node.suffixes()`.\n",
    "\n",
    "Using the code you wrote for the `TrieNode` above, try to add the suffixes function below. (Hint: recurse down the trie, collecting suffixes as you go.)"
   ]
  },
  {
   "cell_type": "code",
   "execution_count": 92,
   "metadata": {},
   "outputs": [
    {
     "data": {
      "text/plain": [
       "0"
      ]
     },
     "execution_count": 92,
     "metadata": {},
     "output_type": "execute_result"
    }
   ],
   "source": [
    "len(dict({}))"
   ]
  },
  {
   "cell_type": "code",
   "execution_count": 107,
   "metadata": {},
   "outputs": [],
   "source": [
    "class TrieNode(object):\n",
    "    def __init__(self):\n",
    "        self.is_word = False\n",
    "        self.children = {}\n",
    "        \n",
    "    def insert(self, char):\n",
    "        ## Add a child node in this Trie\n",
    "        self.children[char] = TrieNode()\n",
    "    \n",
    "    def suffixes_helper(self, suffix):\n",
    "        ## Helper method to get all the suffixes from the TrieNode\n",
    "        if self.is_word:\n",
    "            yield suffix \n",
    "            \n",
    "        for i in self.children:\n",
    "            yield from self.children[i].suffixes_helper(suffix + i)\n",
    "        \n",
    "    def suffixes(self, suffix = ''):\n",
    "        suffixes_generator = self.suffixes_helper(suffix)\n",
    "        output = []\n",
    "        for i in suffixes_generator:\n",
    "            output.append(i)\n",
    "        return output\n",
    "## The Trie itself containing the root node and insert/find functions\n",
    "class Trie:\n",
    "    def __init__(self):\n",
    "        ## Initialize this Trie (add a root node)\n",
    "        self.root = TrieNode()\n",
    "\n",
    "    def insert(self, word):\n",
    "        ## Add a word to the Trie\n",
    "        current_node = self.root\n",
    "        \n",
    "        for char in word:\n",
    "            if char not in current_node.children:\n",
    "                current_node.insert(char)\n",
    "            current_node = current_node.children[char]\n",
    "            \n",
    "        current_node.is_word = True\n",
    "\n",
    "    def find(self, prefix):\n",
    "        ## Find the Trie node that represents this prefix\n",
    "        current_node = self.root\n",
    "        \n",
    "        for char in prefix:\n",
    "            if char not in current_node.children:   \n",
    "                return\n",
    "            current_node = current_node.children[char]\n",
    "\n",
    "        return current_node\n",
    "    \n",
    "\n"
   ]
  },
  {
   "cell_type": "markdown",
   "metadata": {},
   "source": [
    "# Testing it all out\n",
    "\n",
    "Run the following code to add some words to your trie and then use the interactive search box to see what your code returns."
   ]
  },
  {
   "cell_type": "code",
   "execution_count": 108,
   "metadata": {},
   "outputs": [],
   "source": [
    "MyTrie = Trie()\n",
    "wordList = [\n",
    "    \"ant\", \"anthology\", \"antagonist\", \"antonym\", \n",
    "    \"fun\", \"function\", \"factory\", \n",
    "    \"trie\", \"trigger\", \"trigonometry\", \"tripod\"\n",
    "]\n",
    "for word in wordList:\n",
    "    MyTrie.insert(word)"
   ]
  },
  {
   "cell_type": "code",
   "execution_count": 109,
   "metadata": {},
   "outputs": [
    {
     "data": {
      "application/vnd.jupyter.widget-view+json": {
       "model_id": "ad0e27a141374870954a4460758ff3cf",
       "version_major": 2,
       "version_minor": 0
      },
      "text/plain": [
       "interactive(children=(Text(value='', description='prefix'), Output()), _dom_classes=('widget-interact',))"
      ]
     },
     "metadata": {},
     "output_type": "display_data"
    }
   ],
   "source": [
    "from ipywidgets import widgets\n",
    "from IPython.display import display\n",
    "from ipywidgets import interact\n",
    "def f(prefix):\n",
    "    if prefix != '':\n",
    "        prefixNode = MyTrie.find(prefix)\n",
    "        if prefixNode:\n",
    "            print('\\n'.join(prefixNode.suffixes()))\n",
    "        else:\n",
    "            print(prefix + \" not found\")\n",
    "    else:\n",
    "        print('')\n",
    "interact(f,prefix='');"
   ]
  },
  {
   "cell_type": "code",
   "execution_count": 116,
   "metadata": {},
   "outputs": [
    {
     "name": "stdout",
     "output_type": "stream",
     "text": [
      "———————————————————— Case1: ————————————————————\n",
      "Pass\n",
      "Pass\n",
      "Pass\n",
      "———————————————————— Case2: ————————————————————\n",
      "Pass\n",
      "———————————————————— Case3: ————————————————————\n",
      "Pass Please insert words into the Trie to search for suffixes.\n"
     ]
    }
   ],
   "source": [
    "MyTrie = Trie()\n",
    "wordList = [\n",
    "    \"ant\", \"anthology\", \"antagonist\", \"antonym\", \n",
    "    \"fun\", \"function\", \"factory\", \n",
    "    \"trie\", \"trigger\", \"trigonometry\", \"tripod\"\n",
    "]\n",
    "for word in wordList:\n",
    "    MyTrie.insert(word)\n",
    "    \n",
    "# Case when the Trie has a TrieNode with the prefix 'f'\n",
    "# Output -  TrieNode with the prefix 'f' \n",
    "print('—'*20,'Case1:','—'*20,)\n",
    "print('Pass' if MyTrie.find('f').suffixes()==['un', 'unction', 'actory'] else 'Fail') \n",
    "\n",
    "# returns all the suffixes with the prefix 'a' which is ['nt', 'nthology', 'ntagonist', 'ntonym']\n",
    "print('Pass' if MyTrie.find('a').suffixes() == ['nt', 'nthology', 'ntagonist', 'ntonym'] else 'Fail') \n",
    "\n",
    "# Case when looking for siffix of empty string prefix then it returns all the words in the Trie\n",
    "# Output - ['ant', 'anthology', 'antagonist', 'antonym', 'fun', 'function', 'factory', 'trie', 'trigger', 'trigonometry', 'tripod']\n",
    "print('Pass' if MyTrie.find('').suffixes()==['ant', 'anthology', 'antagonist', 'antonym', 'fun',\\\n",
    "        'function', 'factory', 'trie', 'trigger', 'trigonometry', 'tripod'] else 'Fail'\n",
    ")\n",
    "\n",
    "# Case when prefix is empty string\n",
    "# output is None\n",
    "print('—'*20,'Case2:','—'*20,)\n",
    "print('Pass' if MyTrie.find('h')== None else 'Fail')\n",
    "\n",
    "# Case when prefix is empty string\n",
    "# Output - root of the Trie\n",
    "print('—'*20,'Case3:','—'*20,)\n",
    "try:\n",
    "    print(MyTrie.find('g').suffixes())\n",
    "except AttributeError:\n",
    "    \n",
    "    print('Pass',\"Please insert words into the Trie to search for suffixes.\")\n",
    "    \n",
    "# Case when trying to get the suffixes for a prefix which is not in the Trie\n",
    "# Output - AttributeError: 'NoneType' object has no attribute 'suffixes'\n",
    "# Hence, given custom error"
   ]
  },
  {
   "cell_type": "markdown",
   "metadata": {},
   "source": [
    "- Problem_6: Max and Min in a Unsorted Array\n",
    "    - In this problem, we will look for smallest and largest integer from a list of unsorted integers. The code should run in O(n) time. Do not use Python's inbuilt functions to find min and max.\n",
    "\n",
    "    - Bonus Challenge: Is it possible to find the max and min in a single traversal?\n",
    "    - Sorting usually requires O(n log n) time Can you come up with a O(n) algorithm (i.e., linear time)?"
   ]
  },
  {
   "cell_type": "code",
   "execution_count": 119,
   "metadata": {},
   "outputs": [
    {
     "name": "stdout",
     "output_type": "stream",
     "text": [
      "———————————————————— Case1: ————————————————————\n",
      "Pass\n",
      "Pass\n",
      "Pass\n",
      "———————————————————— Case2: ————————————————————\n",
      "Pass\n",
      "———————————————————— Case3: ————————————————————\n",
      "Pass\n"
     ]
    }
   ],
   "source": [
    "def get_min_max(ints):\n",
    "    \"\"\"\n",
    "    Return a tuple(min, max) out of list of unsorted integers.\n",
    "\n",
    "    Args:\n",
    "       ints(list): list of integers containing one or more integers\n",
    "    \"\"\"\n",
    "    if len(ints) < 1:\n",
    "        return -1\n",
    "    min_index, max_index = 0, 0\n",
    "    for i in range(1,len(ints)):\n",
    "        if ints[i] > ints[max_index]:\n",
    "            max_index = i\n",
    "        if ints[i] < ints[min_index]:\n",
    "            min_index = i\n",
    "    return ints[min_index], ints[max_index]\n",
    "\n",
    "## Example Test Case of Ten Integers\n",
    "import random\n",
    "\n",
    "l = [i for i in range(0, 10)]  # a list containing 0 - 9\n",
    "random.shuffle(l)\n",
    "print('—'*20,'Case1:','—'*20,)\n",
    "print (\"Pass\" if ((0, 9) == get_min_max(l)) else \"Fail\")\n",
    "print (\"Pass\" if ((-1, 10) == get_min_max([10, -1])) else \"Fail\") # list with two ints\n",
    "print (\"Pass\" if ((-10, 15) == get_min_max([5, 1, 0, -1, 10, 15, 8, -10])) else \"Fail\")\n",
    "print('—'*20,'Case2:','—'*20,)\n",
    "print (\"Pass\" if ((5, 5) == get_min_max([5])) else \"Fail\") # single digit list\n",
    "print('—'*20,'Case3:','—'*20,)\n",
    "print (\"Pass\" if (-1 == get_min_max([])) else \"Fail\") # single digit list"
   ]
  },
  {
   "cell_type": "code",
   "execution_count": 126,
   "metadata": {},
   "outputs": [
    {
     "data": {
      "text/plain": [
       "str"
      ]
     },
     "execution_count": 126,
     "metadata": {},
     "output_type": "execute_result"
    }
   ],
   "source": [
    "type('')"
   ]
  },
  {
   "cell_type": "markdown",
   "metadata": {},
   "source": [
    "- Problem_7:HTTPRouter using a Trie\n",
    "    - For this exercise we are going to implement an HTTPRouter like you would find in a typical web server using the Trie data structure we learned previously.\n",
    "    - There are many different implementations of HTTP Routers such as regular expressions or simple string matching, but the Trie is an excellent and very efficient data structure for this purpose.\n",
    "    - The purpose of an HTTP Router is to take a URL path like \"/\", \"/about\", or \"/blog/2019-01-15/my-awesome-blog-post\" and figure out what content to return. In a dynamic web server, the content will often come from a block of code called a handler.\n",
    "   - First we need to implement a slightly different Trie than the one we used for autocomplete. Instead of simple words the Trie will contain a part of the http path at each node, building from the root node /\n",
    "\n",
    "    - In addition to a path though, we need to know which function will handle the http request. In a real router we would probably pass an instance of a class like Python's SimpleHTTPRequestHandler which would be responsible for handling requests to that path. For the sake of simplicity we will just use a string that we can print out to ensure we got the right handler\n",
    "\n",
    "    - We could split the path into letters similar to how we did the autocomplete Trie, but this would result in a Trie with a very large number of nodes and lengthy traversals if we have a lot of pages on our site. A more sensible way to split things would be on the parts of the path that are separated by slashes (\"/\"). A Trie with a single path entry of: \"/about/me\" would look like:\n",
    "\n",
    "        - (root, None) -> (\"about\", None) -> (\"me\", \"About Me handler\")\n",
    "\n",
    "    - We can also simplify our RouteTrie a bit by excluding the suffixes method and the endOfWord property on RouteTrieNodes. We really just need to insert and find nodes, and if a RouteTrieNode is not a leaf node, it won't have a handler which is fine."
   ]
  },
  {
   "cell_type": "code",
   "execution_count": 145,
   "metadata": {},
   "outputs": [],
   "source": [
    "# A RouteTrie will store our routes and their associated handlers\n",
    "class RouteTrie:\n",
    "    def __init__(self, handler = None, not_found_handler = None):\n",
    "        # Initialize the trie with an root node and a handler, this is the root path or home page node\n",
    "        self.root = RouteTrieNode('root handler')\n",
    "        self.not_found_handler = not_found_handler\n",
    "        \n",
    "    def insert(self, path, leave_handler):\n",
    "        # Similar to our previous example you will want to recursively add nodes\n",
    "        # Make sure you assign the handler to only the leaf (deepest) node of this path\n",
    "        cur = self.root \n",
    "        if path == '' or path == '/':\n",
    "            cur.handler = leave_handler\n",
    "            return \n",
    "        \n",
    "        path_list = path[:-1].split('/') if path.endswith('/') else path.split('/')\n",
    "\n",
    "        for r in path_list:\n",
    "            if r not in cur.children:\n",
    "                cur.children[r] = RouteTrieNode()\n",
    "            cur = cur.children[r]\n",
    "        cur.handler = leave_handler\n",
    "        cur.is_leave = True\n",
    "\n",
    "    def find(self, path):\n",
    "        # Starting at the root, navigate the Trie to find a match for this path\n",
    "        # Return the handler for a match, or None for no match\n",
    "        cur = self.root\n",
    "        if path == '' or path == '/':\n",
    "            return cur.handler\n",
    "        path_list = path.split('/')[:-1] if path.endswith('/') else path.split('/')\n",
    "        \n",
    "        for r in path_list:\n",
    "            if r not in cur.children:\n",
    "                return self.not_found_handler\n",
    "            cur = cur.children[r]\n",
    "        return cur.handler\n",
    "\n",
    "# A RouteTrieNode will be similar to our autocomplete TrieNode... with one additional element, a handler.\n",
    "class RouteTrieNode:\n",
    "    def __init__(self, handler=None):\n",
    "        # Initialize the node with children as before, plus a handler\n",
    "        self.children = {}\n",
    "        self.handler = handler\n",
    "        self.is_leave = False\n",
    "\n",
    "    def insert(self, router_content, handler_content=None):\n",
    "        # Insert the node as before\n",
    "        node = RouteTrieNode(handler_content)\n",
    "        node.is_leave = True\n",
    "        self.children[router_content] = node\n",
    "        self.is_leave = False"
   ]
  },
  {
   "cell_type": "markdown",
   "metadata": {},
   "source": [
    "- Next we need to implement the actual Router. The router will initialize itself with a RouteTrie for holding routes and associated handlers. It should also support adding a handler by path and looking up a handler by path. All of these operations will be delegated to the RouteTrie.\n",
    "\n",
    "    - Hint: the RouteTrie stores handlers under path parts, so remember to split your path around the '/' character\n",
    "\n",
    "    - Bonus Points: Add a not found handler to your Router which is returned whenever a path is not found in the Trie.\n",
    "\n",
    "    - More Bonus Points: Handle trailing slashes! A request for '/about' or '/about/' are probably looking for the same page. Requests for '' or '/' are probably looking for the root handler. Handle these edge cases in your Router."
   ]
  },
  {
   "cell_type": "code",
   "execution_count": 146,
   "metadata": {},
   "outputs": [],
   "source": [
    "# The Router class will wrap the Trie and handle \n",
    "class Router:\n",
    "    def __init__(self, handler_content=None, not_found_handler = None):\n",
    "        # Create a new RouteTrie for holding our routes\n",
    "        # You could also add a handler for 404 page not found responses as well!\n",
    "        self.routes = RouteTrie(handler_content, not_found_handler)\n",
    "        \n",
    "    def add_handler(self, path, handler = None):\n",
    "        # Add a handler for a path\n",
    "        # You will need to split the path and pass the pass parts\n",
    "        # as a list to the RouteTrie\n",
    "        return self.routes.insert(path, handler)\n",
    "\n",
    "    def lookup(self, path):\n",
    "        # lookup path (by parts) and return the associated handler\n",
    "        # you can return None if it's not found or\n",
    "        # return the \"not found\" handler if you added one\n",
    "        # bonus points if a path works with and without a trailing slash\n",
    "        # e.g. /about and /about/ both return the /about handler\n",
    "        return self.routes.find(path)\n",
    "\n",
    "    def split_path(self,path):\n",
    "        # you need to split the path into parts for \n",
    "        # both the add_handler and loopup functions,\n",
    "        # so it should be placed in a function here\n",
    "        return path.split('/')[:-1] if path.endswith('/') else path.split('/')"
   ]
  },
  {
   "cell_type": "code",
   "execution_count": null,
   "metadata": {},
   "outputs": [],
   "source": []
  },
  {
   "cell_type": "code",
   "execution_count": 156,
   "metadata": {},
   "outputs": [
    {
     "name": "stdout",
     "output_type": "stream",
     "text": [
      "———————————————————— Case1: ————————————————————\n",
      "root handler\n",
      "None\n",
      "about handler\n",
      "about handler\n",
      "not found handler\n",
      "———————————————————— Case2: ————————————————————\n",
      "root handler\n",
      "root handler\n",
      "None\n",
      "not found handler\n",
      "not found handler\n",
      "me handler\n",
      "———————————————————— Case3: ————————————————————\n",
      "root handler\n",
      "None\n",
      "\n",
      "resources handler\n",
      "Home Page\n",
      "Landing Page\n",
      "\n",
      "All pass!\n"
     ]
    }
   ],
   "source": [
    "# Here are some test cases and expected outputs you can use to test your implementation\n",
    "print('—'*20,'Case1:','—'*20,)\n",
    "# create the router and add a route\n",
    "router = Router(\"root handler\", \"not found handler\") # remove the 'not found handler' if you did not implement this\n",
    "router.add_handler(\"/home/about\", \"about handler\")  # add a route\n",
    "\n",
    "# some lookups with the expected output\n",
    "print(router.lookup(\"/\")) # should print 'root handler'\n",
    "print(router.lookup(\"/home\")) # should print 'not found handler' or None if you did not implement one\n",
    "print(router.lookup(\"/home/about\")) # should print 'about handler'\n",
    "print(router.lookup(\"/home/about/\")) # should print 'about handler' or None if you did not handle trailing slashes\n",
    "print(router.lookup(\"/home/about/me\")) # should print 'not found handler' or None if you did not implement one\n",
    "\n",
    "# create the router and add a route\n",
    "print('—'*20,'Case2:','—'*20,)\n",
    "router = Router(\"root handler\", \"not found handler\") # remove the 'not found handler' if you did not implement this\n",
    "router.add_handler(\"/home/for/me\", \"me handler\")  # add a route\n",
    "\n",
    "# some lookups with the expected output\n",
    "print(router.lookup(\"\")) # should print 'root handler'\n",
    "print(router.lookup(\"/\")) # should print 'root handler'\n",
    "print(router.lookup(\"/home\")) # should print 'not found handler' or None if you did not implement one\n",
    "print(router.lookup(\"/home/about\")) # should print 'not found handler' or None\n",
    "print(router.lookup(\"/home/about/\")) # should print 'not found handler' or None\n",
    "print(router.lookup(\"/home/for/me\")) # should print 'me handler' \n",
    "\n",
    "print('—'*20,'Case3:','—'*20,)\n",
    "router1 = Router(\"\", \"not found handler\") \n",
    "router1.add_handler(\"/home/contact\", \"\")  # add a route\n",
    "router1.add_handler(\"/home/department/resources\", \"resources handler\")  # add a route\n",
    "\n",
    "print(router1.lookup(\"\")) # should print should print 'root handler'\n",
    "print(router1.lookup(\"/home\")) # should print None \n",
    "print(router1.lookup(\"/home/contact/\")) # should print '' \n",
    "print(router1.lookup(\"/home/department/resources\")) # should print 'resources handler' \n",
    "router1.add_handler(\"/home\", \"Home Page\")\n",
    "print(router1.lookup(\"/home\")) # should print 'Home Page' \n",
    "\n",
    "router1.add_handler(\"\", \"Landing Page\")\n",
    "print(router1.lookup(\"/\")) # should print 'Landing Page' \n",
    "print('\\nAll pass!')"
   ]
  },
  {
   "cell_type": "code",
   "execution_count": null,
   "metadata": {},
   "outputs": [],
   "source": []
  }
 ],
 "metadata": {
  "kernelspec": {
   "display_name": "Python 3",
   "language": "python",
   "name": "python3"
  },
  "language_info": {
   "codemirror_mode": {
    "name": "ipython",
    "version": 3
   },
   "file_extension": ".py",
   "mimetype": "text/x-python",
   "name": "python",
   "nbconvert_exporter": "python",
   "pygments_lexer": "ipython3",
   "version": "3.7.1"
  },
  "varInspector": {
   "cols": {
    "lenName": 16,
    "lenType": 16,
    "lenVar": 40
   },
   "kernels_config": {
    "python": {
     "delete_cmd_postfix": "",
     "delete_cmd_prefix": "del ",
     "library": "var_list.py",
     "varRefreshCmd": "print(var_dic_list())"
    },
    "r": {
     "delete_cmd_postfix": ") ",
     "delete_cmd_prefix": "rm(",
     "library": "var_list.r",
     "varRefreshCmd": "cat(var_dic_list()) "
    }
   },
   "types_to_exclude": [
    "module",
    "function",
    "builtin_function_or_method",
    "instance",
    "_Feature"
   ],
   "window_display": false
  }
 },
 "nbformat": 4,
 "nbformat_minor": 2
}
