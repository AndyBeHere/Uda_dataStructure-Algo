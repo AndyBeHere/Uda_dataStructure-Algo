{
 "cells": [
  {
   "cell_type": "markdown",
   "metadata": {},
   "source": [
    "### Problem_1: LRU(least recently used) Cache"
   ]
  },
  {
   "cell_type": "code",
   "execution_count": 1,
   "metadata": {},
   "outputs": [
    {
     "data": {
      "text/plain": [
       "0"
      ]
     },
     "execution_count": 1,
     "metadata": {},
     "output_type": "execute_result"
    }
   ],
   "source": [
    "a = {}\n",
    "len(a.keys())"
   ]
  },
  {
   "cell_type": "code",
   "execution_count": 2,
   "metadata": {},
   "outputs": [],
   "source": [
    "from queue import Queue\n",
    "\n",
    "class LRU_Cache(object):\n",
    "    \n",
    "    def __init__(self, capacity):\n",
    "        self.capacity = capacity\n",
    "        self.num_data = 0\n",
    "        self.data = dict({})\n",
    "        self.queue_key = Queue()\n",
    "    \n",
    "    def get(self, key):\n",
    "        if key in self.data:\n",
    "#             self.queue_index.put(key)\n",
    "            return self.data[key]\n",
    "        return -1\n",
    "    \n",
    "    def set(self, key, value):\n",
    "        if self.num_data < self.capacity:\n",
    "            self.queue_key.put(key)\n",
    "            self.data[key] = value\n",
    "            self.num_data += 1\n",
    "        else:\n",
    "            delete_key = self.queue_key.get()\n",
    "            self.data.pop(delete_key)\n",
    "            self.queue_key.put(key)\n",
    "            self.data[key] = value\n",
    "            self.num_data += 1\n",
    "            \n"
   ]
  },
  {
   "cell_type": "markdown",
   "metadata": {},
   "source": [
    "- test case"
   ]
  },
  {
   "cell_type": "code",
   "execution_count": 3,
   "metadata": {},
   "outputs": [
    {
     "name": "stdout",
     "output_type": "stream",
     "text": [
      "True result of our_cache.get(1) is 1, and the output is 1.\n",
      "True result of our_cache.get(2) is 2, and the output is 2.\n",
      "True result of our_cache.get(9) is -1, and the output is -1.\n",
      "True result of our_cache.get(1) is -1, and the output is -1.\n",
      "True result of our_cache.get(3) is 3, and the output is 3.\n"
     ]
    }
   ],
   "source": [
    "our_cache = LRU_Cache(5)\n",
    "\n",
    "our_cache.set(1,1)\n",
    "our_cache.set(2,2)\n",
    "our_cache.set(3,3)    \n",
    "our_cache.set(4,4)\n",
    "\n",
    "print(\"True result of our_cache.get(1) is 1, and the output is {}.\".format(our_cache.get(1)))\n",
    "print(\"True result of our_cache.get(2) is 2, and the output is {}.\".format(our_cache.get(2)))\n",
    "print(\"True result of our_cache.get(9) is -1, and the output is {}.\".format(our_cache.get(9)))\n",
    "\n",
    "our_cache.set(5, 5)\n",
    "our_cache.set(6, 6)\n",
    "\n",
    "print(\"True result of our_cache.get(1) is -1, and the output is {}.\".format(our_cache.get(1)))\n",
    "print(\"True result of our_cache.get(3) is 3, and the output is {}.\".format(our_cache.get(3)))"
   ]
  },
  {
   "cell_type": "markdown",
   "metadata": {},
   "source": [
    "- explanation"
   ]
  },
  {
   "cell_type": "code",
   "execution_count": null,
   "metadata": {},
   "outputs": [],
   "source": []
  },
  {
   "cell_type": "markdown",
   "metadata": {},
   "source": [
    "### Problem_2: File Recursion"
   ]
  },
  {
   "cell_type": "code",
   "execution_count": 57,
   "metadata": {},
   "outputs": [],
   "source": [
    "import os\n",
    "\n",
    "def find_files(suffix, path):\n",
    "    if os.path.isfile(path):\n",
    "        if path.split('.')[-1] == suffix:\n",
    "            return [path]\n",
    "        return []\n",
    "    res = []\n",
    "    for dir in os.listdir(path):\n",
    "        path_new = path\n",
    "        path_new = os.path.join(path, dir)\n",
    "        res += find_files(suffix, path_new)\n",
    "        \n",
    "    return res  "
   ]
  },
  {
   "cell_type": "markdown",
   "metadata": {},
   "source": [
    "- test cases"
   ]
  },
  {
   "cell_type": "code",
   "execution_count": 85,
   "metadata": {},
   "outputs": [
    {
     "name": "stdout",
     "output_type": "stream",
     "text": [
      "Case 1: suffix is 'c'\n",
      "\n",
      "Expected result is :\n",
      "'./testdir/subdir1/a.c',\n",
      "'./testdir/subdir3/subsubdir1/b.c',\n",
      "'./testdir/subdir5/a.c',\n",
      "'./testdir/t1.c'\n",
      "\n",
      "output is:\n",
      "./testdir\\subdir1\\a.c\n",
      "./testdir\\subdir3\\subsubdir1\\b.c\n",
      "./testdir\\subdir5\\a.c\n",
      "./testdir\\t1.c\n",
      "\n"
     ]
    }
   ],
   "source": [
    "path = \"./testdir\"\n",
    "suffix_1 = 'c'\n",
    "print(\"Case 1: suffix is 'c'\\n\")\n",
    "\n",
    "res_1 = [\"'./testdir/subdir1/a.c'\", \\\n",
    " \"'./testdir/subdir3/subsubdir1/b.c'\", \\\n",
    " \"'./testdir/subdir5/a.c'\", \\\n",
    " \"'./testdir/t1.c'\"]\n",
    "print(\"Expected result is :\\n{},\\n{},\\n{},\\n{}\\n\".format(*res_1))\n",
    "\n",
    "print(\"output is:\\n{}\\n{}\\n{}\\n{}\\n\".format(*find_files(suffix_1,path)))\n"
   ]
  },
  {
   "cell_type": "code",
   "execution_count": 86,
   "metadata": {},
   "outputs": [
    {
     "name": "stdout",
     "output_type": "stream",
     "text": [
      "Case 1: suffix is 'h'\n",
      "\n",
      "Expected result is :\n",
      "'./testdir/subdir1/a.h',\n",
      "'./testdir/subdir3/subsubdir1/b.h',\n",
      "'./testdir/subdir5/a.h',\n",
      "'./testdir/t1.h'\n",
      "\n",
      "output is:\n",
      "./testdir\\subdir1\\a.h\n",
      "./testdir\\subdir3\\subsubdir1\\b.h\n",
      "./testdir\\subdir5\\a.h\n",
      "./testdir\\t1.h\n",
      "\n"
     ]
    }
   ],
   "source": [
    "suffix_2 = 'h'\n",
    "print(\"Case 2: suffix is 'h'\\n\")\n",
    "\n",
    "res_1 = [\"'./testdir/subdir1/a.h'\", \\\n",
    " \"'./testdir/subdir3/subsubdir1/b.h'\", \\\n",
    " \"'./testdir/subdir5/a.h'\", \\\n",
    " \"'./testdir/t1.h'\"]\n",
    "print(\"Expected result is :\\n{},\\n{},\\n{},\\n{}\\n\".format(*res_1))\n",
    "\n",
    "print(\"output is:\\n{}\\n{}\\n{}\\n{}\\n\".format(*find_files(suffix_2,path)))"
   ]
  },
  {
   "cell_type": "code",
   "execution_count": 91,
   "metadata": {},
   "outputs": [
    {
     "name": "stdout",
     "output_type": "stream",
     "text": [
      "Case 1: suffix is 'h'\n",
      "\n",
      "Expected result is :None\n",
      "\n",
      "output is:[]\n"
     ]
    }
   ],
   "source": [
    "suffix_2 = 'py'\n",
    "print(\"Case 3: suffix is 'h'\\n\")\n",
    "\n",
    "res_1 = []\n",
    "print(\"Expected result is :None\\n\")\n",
    "\n",
    "print(\"output is:{}\".format(find_files(suffix_2,path)))"
   ]
  },
  {
   "cell_type": "code",
   "execution_count": null,
   "metadata": {},
   "outputs": [],
   "source": []
  },
  {
   "cell_type": "markdown",
   "metadata": {},
   "source": [
    "### Problem_3: Huffman Coding"
   ]
  },
  {
   "cell_type": "code",
   "execution_count": 153,
   "metadata": {},
   "outputs": [],
   "source": [
    "class Node(object):\n",
    "    def __init__(self, value = None):\n",
    "        self.value = value\n",
    "        self.left = None\n",
    "        self.right = None\n",
    "        self.chr = None\n",
    "    def isLeft(self):\n",
    "        if self.parent == None:\n",
    "            return False\n",
    "        if self.parent.left == self:\n",
    "            return True\n",
    "        return False\n",
    "\n",
    "class Tree(object):\n",
    "    def __init__(self, value=None):\n",
    "        self.root = value\n",
    "    \n",
    "def get_freq(data):\n",
    "    dict_str = dict({})\n",
    "    for i in data:\n",
    "        if i in dict_str:\n",
    "            dict_str[i] += 1\n",
    "        else:\n",
    "            dict_str[i] = 1\n",
    "    item = list(dict_str.items())\n",
    "    item.sort(key = lambda x: x[1])\n",
    "    return item"
   ]
  },
  {
   "cell_type": "code",
   "execution_count": null,
   "metadata": {},
   "outputs": [],
   "source": []
  },
  {
   "cell_type": "code",
   "execution_count": 117,
   "metadata": {},
   "outputs": [
    {
     "data": {
      "text/plain": [
       "({'a': 2, 's': 2, 'd': 8, 'r': 1, 'f': 1, 'g': 1},\n",
       " [('r', 1), ('f', 1), ('g', 1), ('a', 2), ('s', 2), ('d', 8)])"
      ]
     },
     "execution_count": 117,
     "metadata": {},
     "output_type": "execute_result"
    }
   ],
   "source": [
    "get_freq(\"aassddrfgdddddd\")"
   ]
  },
  {
   "cell_type": "code",
   "execution_count": 197,
   "metadata": {},
   "outputs": [],
   "source": [
    "def get_code(root):\n",
    "#     res = ''\n",
    "    if root.left == None and root.right == None:      \n",
    "        return [root.chr]\n",
    "    \n",
    "    if root.left:   \n",
    "        res_l = get_code(root.left)\n",
    "        res_l = ['0'+item for item in res_l]\n",
    "    if root.right:\n",
    "        res_r = get_code(root.right)\n",
    "        res_r = ['1'+item for item in res_r]\n",
    "    return res_l + res_r\n",
    "\n",
    "def huffman_encoding(data):\n",
    "    item = get_freq(data)\n",
    "    tree = Tree()\n",
    "    while (len(item)>=2):\n",
    "        node_l = Node()\n",
    "        node_r = Node()\n",
    "#         print(type(item[0][0])==str)\n",
    "        if type(item[0][0]) == str:\n",
    "            node_l.value = item[0][1]\n",
    "            node_l.chr = item[0][0]\n",
    "        else:\n",
    "            node_l = item[0][0]\n",
    "        if type(item[1][0]) == str:\n",
    "            node_r.value = item[1][1]\n",
    "            node_r.chr = item[1][0]\n",
    "        else:\n",
    "            node_r = item[1][0]\n",
    "#         print(node_l.value,node_r.value)\n",
    "        root = Node(node_l.value+node_r.value)\n",
    "        root.left = node_l\n",
    "        root.right = node_r\n",
    "    \n",
    "        item.pop(0)\n",
    "        item.pop(0)\n",
    "        item.append((root, root.value))\n",
    "        item.sort(key=lambda x:x[1])\n",
    "    tree.root = root\n",
    "    \n",
    "    codes = get_code(root)\n",
    "#     print(codes)\n",
    "    dict_codes = {}\n",
    "    for i in codes:\n",
    "        dict_codes[i[-1]] = i[:-1]\n",
    "    code=\"\"\n",
    "    for i in data:\n",
    "        code += dict_codes[i]\n",
    "    return code, tree\n",
    "    \n",
    "def huffman_decoding(data, tree):\n",
    "    root = tree.root\n",
    "    codes = get_code(root)\n",
    "    dict_codes = {}\n",
    "    dict_decodes = {}\n",
    "    for i in codes:\n",
    "        dict_codes[i[-1]] = i[:-1]\n",
    "        dict_decodes[i[:-1]] = i[-1]\n",
    "    index_start = 0\n",
    "#     length = 1\n",
    "    max_len = max([len(item) for item in list(dict_codes.values())])\n",
    "    \n",
    "    decode = ''\n",
    "    while (index_start<len(data)):\n",
    "        for length in range(1,max_len+1):\n",
    "            if data[index_start: index_start+length] in list(dict_codes.values()):\n",
    "                decode += dict_decodes[data[index_start:index_start+length]] \n",
    "                index_start += length\n",
    "                break\n",
    "    return decode\n",
    "    "
   ]
  },
  {
   "cell_type": "code",
   "execution_count": 198,
   "metadata": {},
   "outputs": [
    {
     "data": {
      "text/plain": [
       "3"
      ]
     },
     "execution_count": 198,
     "metadata": {},
     "output_type": "execute_result"
    }
   ],
   "source": [
    "max([1,2,3])"
   ]
  },
  {
   "cell_type": "code",
   "execution_count": 199,
   "metadata": {},
   "outputs": [
    {
     "data": {
      "text/plain": [
       "'fd'"
      ]
     },
     "execution_count": 199,
     "metadata": {},
     "output_type": "execute_result"
    }
   ],
   "source": [
    "# print(type('a') == str)\n",
    "data = \"dggghfg\"\n",
    "_,tree= huffman_encoding(data)\n",
    "\n",
    "huffman_decoding('00010',tree)"
   ]
  },
  {
   "cell_type": "code",
   "execution_count": 200,
   "metadata": {},
   "outputs": [
    {
     "name": "stdout",
     "output_type": "stream",
     "text": [
      "The size of the data is: 69\n",
      "\n",
      "The content of the data is: The bird is the word\n",
      "\n"
     ]
    }
   ],
   "source": [
    "import sys\n",
    "a_great_sentence = \"The bird is the word\"\n",
    "\n",
    "print (\"The size of the data is: {}\\n\".format(sys.getsizeof(a_great_sentence)))\n",
    "print (\"The content of the data is: {}\\n\".format(a_great_sentence))\n"
   ]
  },
  {
   "cell_type": "code",
   "execution_count": 201,
   "metadata": {},
   "outputs": [
    {
     "name": "stdout",
     "output_type": "stream",
     "text": [
      "The size of the encoded data is: 36\n",
      "\n",
      "The content of the encoded data is: 0110111011111100111000001010110000100011010011110111111010101011001010\n",
      "\n",
      "The size of the decoded data is: 69\n",
      "\n",
      "The content of the encoded data is: The bird is the word\n",
      "\n"
     ]
    }
   ],
   "source": [
    "encoded_data, tree = huffman_encoding(a_great_sentence)\n",
    "\n",
    "print (\"The size of the encoded data is: {}\\n\".format(sys.getsizeof(int(encoded_data, base=2))))\n",
    "print (\"The content of the encoded data is: {}\\n\".format(encoded_data))\n",
    "\n",
    "decoded_data = huffman_decoding(encoded_data, tree)\n",
    "\n",
    "print (\"The size of the decoded data is: {}\\n\".format(sys.getsizeof(decoded_data)))\n",
    "print (\"The content of the encoded data is: {}\\n\".format(decoded_data))"
   ]
  },
  {
   "cell_type": "markdown",
   "metadata": {},
   "source": [
    "### Problem_4: Active Directory"
   ]
  },
  {
   "cell_type": "code",
   "execution_count": 205,
   "metadata": {},
   "outputs": [],
   "source": [
    "class Group(object):\n",
    "    def __init__(self, _name):\n",
    "        self.name = _name\n",
    "        self.groups = []\n",
    "        self.users = []\n",
    "        \n",
    "    def add_group(self, group):\n",
    "        self.groups.append(group)\n",
    "    \n",
    "    def add_user(self, user):\n",
    "        self.users.append(user)\n",
    "    \n",
    "    def get_groups(self):\n",
    "        return self.groups\n",
    "    \n",
    "    def get_users(self):\n",
    "        return self.users\n",
    "    \n",
    "    def get_name(self):\n",
    "        return self.name\n",
    "\n"
   ]
  },
  {
   "cell_type": "code",
   "execution_count": 211,
   "metadata": {},
   "outputs": [],
   "source": [
    "def is_user_in_group(user, group):\n",
    "    if user in group.get_users():\n",
    "        return True\n",
    "    elif group.get_groups() == []:\n",
    "        return False\n",
    "    for g in group.get_groups():\n",
    "        if is_user_in_group(user, g):\n",
    "            return True\n",
    "    return False\n",
    "        "
   ]
  },
  {
   "cell_type": "markdown",
   "metadata": {},
   "source": [
    "- test cases"
   ]
  },
  {
   "cell_type": "code",
   "execution_count": 212,
   "metadata": {},
   "outputs": [],
   "source": [
    "parent = Group(\"parent\")\n",
    "child = Group(\"child\")\n",
    "sub_child = Group(\"subchild\")\n",
    "\n",
    "sub_child_user = \"sub_child_user\"\n",
    "sub_child.add_user(sub_child_user)\n",
    "\n",
    "child_user = \"child_user\"\n",
    "child.add_user(child_user)\n",
    "child.add_group(sub_child)\n",
    "parent.add_group(child)"
   ]
  },
  {
   "cell_type": "code",
   "execution_count": 220,
   "metadata": {},
   "outputs": [
    {
     "name": "stdout",
     "output_type": "stream",
     "text": [
      "Case1:\n",
      "\n",
      "Expect result is True, True, True.\n",
      "\n",
      "Output is True,True,True.\n",
      "\n"
     ]
    }
   ],
   "source": [
    "print(\"Case1:\\n\")\n",
    "print(\"Expect result is True, True, True.\\n\")\n",
    "res_1 = is_user_in_group(sub_child_user, parent)\n",
    "res_2 =is_user_in_group(sub_child_user, child)\n",
    "res_3 = is_user_in_group(sub_child_user, sub_child)\n",
    "print(\"Output is {},{},{}.\\n\".format(res_1,res_2,res_3))"
   ]
  },
  {
   "cell_type": "code",
   "execution_count": 223,
   "metadata": {},
   "outputs": [
    {
     "name": "stdout",
     "output_type": "stream",
     "text": [
      "Case2:\n",
      "\n",
      "Expect result is False, True, True.\n",
      "\n",
      "Output is False,False,True.\n",
      "\n"
     ]
    }
   ],
   "source": [
    "print(\"Case2:\\n\")\n",
    "print(\"Expect result is False, True, True.\\n\")\n",
    "res_4 = is_user_in_group(child_user, sub_child)\n",
    "res_5 = is_user_in_group(child_user, child)\n",
    "res_6 = is_user_in_group(child_user, parent)\n",
    "print(\"Output is {},{},{}.\\n\".format(res_4,res_4,res_6))"
   ]
  },
  {
   "cell_type": "code",
   "execution_count": 224,
   "metadata": {},
   "outputs": [
    {
     "name": "stdout",
     "output_type": "stream",
     "text": [
      "Case3:\n",
      "\n",
      "Expect result is False.\n",
      "\n",
      "Output is False.\n",
      "\n"
     ]
    }
   ],
   "source": [
    "print(\"Case3:\\n\")\n",
    "print(\"Expect result is False.\\n\")\n",
    "res_7 = is_user_in_group('fake', parent)\n",
    "print(\"Output is {}.\\n\".format(res_7))"
   ]
  },
  {
   "cell_type": "code",
   "execution_count": null,
   "metadata": {},
   "outputs": [],
   "source": []
  },
  {
   "cell_type": "markdown",
   "metadata": {},
   "source": [
    "### Problem_5: Blockchain"
   ]
  },
  {
   "cell_type": "code",
   "execution_count": 225,
   "metadata": {},
   "outputs": [],
   "source": [
    "import hashlib\n",
    "\n",
    "def calc_hash(self):\n",
    "    sha = hashlib.sha256()\n",
    "\n",
    "    hash_str = \"We are going to encode this string of data!\".encode('utf-8')\n",
    "\n",
    "    sha.update(hash_str)\n",
    "\n",
    "    return sha.hexdigest()"
   ]
  },
  {
   "cell_type": "code",
   "execution_count": 229,
   "metadata": {},
   "outputs": [],
   "source": [
    "str_ = \"abc\".encode('utf-8')"
   ]
  },
  {
   "cell_type": "code",
   "execution_count": 227,
   "metadata": {},
   "outputs": [],
   "source": [
    "sha = hashlib.sha256()"
   ]
  },
  {
   "cell_type": "code",
   "execution_count": 237,
   "metadata": {},
   "outputs": [],
   "source": [
    "sha.update(str_)"
   ]
  },
  {
   "cell_type": "code",
   "execution_count": 232,
   "metadata": {},
   "outputs": [
    {
     "data": {
      "text/plain": [
       "'ba7816bf8f01cfea414140de5dae2223b00361a396177a9cb410ff61f20015ad'"
      ]
     },
     "execution_count": 232,
     "metadata": {},
     "output_type": "execute_result"
    }
   ],
   "source": [
    "sha.hexdigest()"
   ]
  },
  {
   "cell_type": "code",
   "execution_count": null,
   "metadata": {},
   "outputs": [],
   "source": []
  },
  {
   "cell_type": "code",
   "execution_count": null,
   "metadata": {},
   "outputs": [],
   "source": []
  },
  {
   "cell_type": "code",
   "execution_count": null,
   "metadata": {},
   "outputs": [],
   "source": []
  },
  {
   "cell_type": "code",
   "execution_count": null,
   "metadata": {},
   "outputs": [],
   "source": []
  },
  {
   "cell_type": "code",
   "execution_count": null,
   "metadata": {},
   "outputs": [],
   "source": []
  },
  {
   "cell_type": "code",
   "execution_count": null,
   "metadata": {},
   "outputs": [],
   "source": []
  },
  {
   "cell_type": "code",
   "execution_count": null,
   "metadata": {},
   "outputs": [],
   "source": []
  },
  {
   "cell_type": "code",
   "execution_count": null,
   "metadata": {},
   "outputs": [],
   "source": []
  },
  {
   "cell_type": "code",
   "execution_count": null,
   "metadata": {},
   "outputs": [],
   "source": []
  }
 ],
 "metadata": {
  "kernelspec": {
   "display_name": "Python 3",
   "language": "python",
   "name": "python3"
  },
  "language_info": {
   "codemirror_mode": {
    "name": "ipython",
    "version": 3
   },
   "file_extension": ".py",
   "mimetype": "text/x-python",
   "name": "python",
   "nbconvert_exporter": "python",
   "pygments_lexer": "ipython3",
   "version": "3.7.1"
  }
 },
 "nbformat": 4,
 "nbformat_minor": 2
}
